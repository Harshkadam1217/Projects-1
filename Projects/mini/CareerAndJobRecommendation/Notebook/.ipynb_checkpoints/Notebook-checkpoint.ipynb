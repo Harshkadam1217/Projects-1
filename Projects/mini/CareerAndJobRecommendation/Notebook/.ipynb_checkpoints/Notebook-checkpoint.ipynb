{
 "cells": [
  {
   "cell_type": "markdown",
   "metadata": {
    "colab_type": "text",
    "id": "view-in-github"
   },
   "source": [
    "<a href=\"https://colab.research.google.com/github/vaishnavipatil29/Career-Guidance-ML-Project/blob/master/FinalPRMLcode.ipynb\" target=\"_parent\"><img src=\"https://colab.research.google.com/assets/colab-badge.svg\" alt=\"Open In Colab\"/></a>"
   ]
  },
  {
   "cell_type": "markdown",
   "metadata": {
    "id": "5Ce14OgkfaAc"
   },
   "source": [
    "**Career Guidance System**"
   ]
  },
  {
   "cell_type": "code",
   "execution_count": 1,
   "metadata": {
    "colab": {
     "base_uri": "https://localhost:8080/",
     "height": 316
    },
    "id": "VREYLjokfSaN",
    "outputId": "85f55979-5173-4f3f-abd6-978fb3c60674",
    "scrolled": true
   },
   "outputs": [
    {
     "name": "stdout",
     "output_type": "stream",
     "text": [
      "(7525, 22)\n"
     ]
    }
   ],
   "source": [
    "#importing data\n",
    "import numpy as np\n",
    "import pandas as pd\n",
    "\n",
    "dataset = pd.read_csv(\"career_compute_dataset_1.csv\")\n",
    "print(np.shape(dataset))\n",
    "dataset.head()\n",
    "randseed=49"
   ]
  },
  {
   "cell_type": "code",
   "execution_count": 2,
   "metadata": {},
   "outputs": [],
   "source": [
    "data = dataset.iloc[:randseed,:-1].values\n",
    "label = dataset.iloc[:randseed,-1]"
   ]
  },
  {
   "cell_type": "code",
   "execution_count": 3,
   "metadata": {
    "colab": {
     "base_uri": "https://localhost:8080/"
    },
    "id": "7c1CCk-EhQic",
    "outputId": "8f7d0bb9-49bd-4825-c1f0-58b142a5d18f"
   },
   "outputs": [
    {
     "name": "stdout",
     "output_type": "stream",
     "text": [
      "                 ROLE  Associated Number\n",
      "0   Technical Support                  4\n",
      "1  Software Developer                  2\n",
      "2      UI/UX Designer                  6\n",
      "3        Data Analyst                  1\n",
      "4    Technical Writer                  5\n",
      "5       Web Developer                  7\n",
      "6     Software Tester                  3\n",
      "7    Business Analyst                  0\n"
     ]
    }
   ],
   "source": [
    "from sklearn.preprocessing import LabelEncoder, OneHotEncoder\n",
    "labelencoder = LabelEncoder()\n",
    "df = dataset\n",
    "label = df.iloc[:randseed,-1]\n",
    "original=label.unique() \n",
    "label=label.values\n",
    "label2 = labelencoder.fit_transform(label)\n",
    "y=pd.DataFrame(label2,columns=[\"ROLE\"])\n",
    "numeric=y[\"ROLE\"].unique() \n",
    "y1 = pd.DataFrame({'ROLE':original, 'Associated Number':numeric})\n",
    "print(y1)\n",
    "from sklearn.preprocessing import LabelEncoder, OneHotEncoder\n",
    "labelencoder = LabelEncoder()\n",
    "label = labelencoder.fit_transform(label)\n",
    "y=pd.DataFrame(label,columns=[\"role\"])\n",
    "X = pd.DataFrame(data,columns=['sslc','hsc','cgpa','school_type','no_of_miniprojects','no_of_projects',\n",
    "                                'coresub_skill','aptitude_skill','problemsolving_skill','programming_skill','abstractthink_skill',\n",
    "                                'design_skill','lab_programs','ds_coding','technology_used',\n",
    "                                'sympos_attend','sympos_won','extracurricular','learning_style','college_performence','college_skills'])"
   ]
  },
  {
   "cell_type": "markdown",
   "metadata": {
    "id": "YZzTh9Yrf_x6"
   },
   "source": [
    "Thus, we have categorical data and categorical target.\n",
    "\n",
    "For  Feature Selection : \n",
    "\n",
    "We propose to use: \n",
    "\n",
    "1. Chi-Squared Statistic.\n",
    "2. Mutual Information Statistic.\n",
    "\n"
   ]
  },
  {
   "cell_type": "code",
   "execution_count": 4,
   "metadata": {
    "id": "EkszPWfkf_dz"
   },
   "outputs": [],
   "source": [
    "from pandas import read_csv\n",
    "from sklearn.model_selection import train_test_split\n",
    "from sklearn.preprocessing import LabelEncoder\n",
    "from sklearn.preprocessing import OrdinalEncoder\n",
    "from sklearn.feature_selection import SelectKBest\n",
    "from sklearn.feature_selection import chi2\n",
    "from matplotlib import pyplot"
   ]
  },
  {
   "cell_type": "code",
   "execution_count": 5,
   "metadata": {
    "colab": {
     "base_uri": "https://localhost:8080/",
     "height": 1000
    },
    "id": "An3KlNcZglav",
    "outputId": "be6e46b5-63a0-44d1-a8a3-e8be21b8a621"
   },
   "outputs": [
    {
     "name": "stderr",
     "output_type": "stream",
     "text": [
      "C:\\Users\\nagas\\anaconda3\\envs\\ml\\lib\\site-packages\\sklearn\\utils\\validation.py:760: DataConversionWarning: A column-vector y was passed when a 1d array was expected. Please change the shape of y to (n_samples, ), for example using ravel().\n",
      "  y = column_or_1d(y, warn=True)\n",
      "C:\\Users\\nagas\\anaconda3\\envs\\ml\\lib\\site-packages\\sklearn\\utils\\validation.py:760: DataConversionWarning: A column-vector y was passed when a 1d array was expected. Please change the shape of y to (n_samples, ), for example using ravel().\n",
      "  y = column_or_1d(y, warn=True)\n",
      "C:\\Users\\nagas\\anaconda3\\envs\\ml\\lib\\site-packages\\sklearn\\utils\\validation.py:760: DataConversionWarning: A column-vector y was passed when a 1d array was expected. Please change the shape of y to (n_samples, ), for example using ravel().\n",
      "  y = column_or_1d(y, warn=True)\n"
     ]
    },
    {
     "name": "stdout",
     "output_type": "stream",
     "text": [
      "              Feat_names  F_Scores\n",
      "5         no_of_projects  1.158356\n",
      "14       technology_used  0.847945\n",
      "12          lab_programs  0.692136\n",
      "6          coresub_skill  0.680087\n",
      "4     no_of_miniprojects  0.517845\n",
      "13             ds_coding  0.497607\n",
      "10   abstractthink_skill  0.381173\n",
      "9      programming_skill  0.271132\n",
      "17       extracurricular  0.182510\n",
      "7         aptitude_skill  0.168969\n",
      "11          design_skill  0.136333\n",
      "20        college_skills  0.056273\n",
      "0                   sslc  0.047976\n",
      "1                    hsc  0.027009\n",
      "2                   cgpa  0.000000\n",
      "19   college_performence  0.000000\n",
      "18        learning_style  0.000000\n",
      "8   problemsolving_skill  0.000000\n",
      "3            school_type  0.000000\n",
      "15         sympos_attend  0.000000\n",
      "16            sympos_won  0.000000\n",
      "===========================================================\n",
      "              Feat_names  F_Scores\n",
      "12          lab_programs  1.779868\n",
      "14       technology_used  1.406767\n",
      "5         no_of_projects  1.259398\n",
      "4     no_of_miniprojects  0.838002\n",
      "6          coresub_skill  0.558660\n",
      "18        learning_style  0.404204\n",
      "16            sympos_won  0.339966\n",
      "10   abstractthink_skill  0.237423\n",
      "7         aptitude_skill  0.229025\n",
      "13             ds_coding  0.218405\n",
      "17       extracurricular  0.173295\n",
      "2                   cgpa  0.123906\n",
      "15         sympos_attend  0.088605\n",
      "9      programming_skill  0.082029\n",
      "19   college_performence  0.059825\n",
      "20        college_skills  0.049378\n",
      "3            school_type  0.012914\n",
      "11          design_skill  0.000000\n",
      "1                    hsc  0.000000\n",
      "8   problemsolving_skill  0.000000\n",
      "0                   sslc  0.000000\n",
      "===========================================================\n"
     ]
    },
    {
     "name": "stderr",
     "output_type": "stream",
     "text": [
      "C:\\Users\\nagas\\anaconda3\\envs\\ml\\lib\\site-packages\\sklearn\\utils\\validation.py:760: DataConversionWarning: A column-vector y was passed when a 1d array was expected. Please change the shape of y to (n_samples, ), for example using ravel().\n",
      "  y = column_or_1d(y, warn=True)\n",
      "C:\\Users\\nagas\\anaconda3\\envs\\ml\\lib\\site-packages\\sklearn\\utils\\validation.py:760: DataConversionWarning: A column-vector y was passed when a 1d array was expected. Please change the shape of y to (n_samples, ), for example using ravel().\n",
      "  y = column_or_1d(y, warn=True)\n",
      "C:\\Users\\nagas\\anaconda3\\envs\\ml\\lib\\site-packages\\sklearn\\utils\\validation.py:760: DataConversionWarning: A column-vector y was passed when a 1d array was expected. Please change the shape of y to (n_samples, ), for example using ravel().\n",
      "  y = column_or_1d(y, warn=True)\n"
     ]
    },
    {
     "name": "stdout",
     "output_type": "stream",
     "text": [
      "              Feat_names  F_Scores\n",
      "12          lab_programs  2.147897\n",
      "14       technology_used  1.819609\n",
      "5         no_of_projects  1.516924\n",
      "6          coresub_skill  0.848854\n",
      "4     no_of_miniprojects  0.841368\n",
      "10   abstractthink_skill  0.625068\n",
      "11          design_skill  0.362913\n",
      "8   problemsolving_skill  0.334564\n",
      "19   college_performence  0.283424\n",
      "18        learning_style  0.279466\n",
      "16            sympos_won  0.268340\n",
      "2                   cgpa  0.251651\n",
      "7         aptitude_skill  0.225765\n",
      "20        college_skills  0.191498\n",
      "13             ds_coding  0.148049\n",
      "9      programming_skill  0.144799\n",
      "15         sympos_attend  0.142334\n",
      "17       extracurricular  0.138329\n",
      "0                   sslc  0.083607\n",
      "3            school_type  0.012409\n",
      "1                    hsc  0.000000\n",
      "===========================================================\n",
      "Feature 0: 0.047976\n",
      "Feature 1: 0.027009\n",
      "Feature 2: 0.000000\n",
      "Feature 3: 0.000000\n",
      "Feature 4: 0.517845\n",
      "Feature 5: 1.158356\n",
      "Feature 6: 0.680087\n",
      "Feature 7: 0.168969\n",
      "Feature 8: 0.000000\n",
      "Feature 9: 0.271132\n",
      "Feature 10: 0.381173\n",
      "Feature 11: 0.136333\n",
      "Feature 12: 0.692136\n",
      "Feature 13: 0.497607\n",
      "Feature 14: 0.847945\n",
      "Feature 15: 0.000000\n",
      "Feature 16: 0.000000\n",
      "Feature 17: 0.182510\n",
      "Feature 18: 0.000000\n",
      "Feature 19: 0.000000\n",
      "Feature 20: 0.056273\n"
     ]
    },
    {
     "data": {
      "image/png": "[encoded data removed]",
      "text/plain": [
       "<Figure size 432x288 with 1 Axes>"
      ]
     },
     "metadata": {
      "needs_background": "light"
     },
     "output_type": "display_data"
    },
    {
     "name": "stdout",
     "output_type": "stream",
     "text": [
      " The number of important features with threshold as 0.2 :8 \n",
      "Feature 0: 0.000000\n",
      "Feature 1: 0.000000\n",
      "Feature 2: 0.123906\n",
      "Feature 3: 0.012914\n",
      "Feature 4: 0.838002\n",
      "Feature 5: 1.259398\n",
      "Feature 6: 0.558660\n",
      "Feature 7: 0.229025\n",
      "Feature 8: 0.000000\n",
      "Feature 9: 0.082029\n",
      "Feature 10: 0.237423\n",
      "Feature 11: 0.000000\n",
      "Feature 12: 1.779868\n",
      "Feature 13: 0.218405\n",
      "Feature 14: 1.406767\n",
      "Feature 15: 0.088605\n",
      "Feature 16: 0.339966\n",
      "Feature 17: 0.173295\n",
      "Feature 18: 0.404204\n",
      "Feature 19: 0.059825\n",
      "Feature 20: 0.049378\n"
     ]
    },
    {
     "data": {
      "image/png": "[encoded data removed]",
      "text/plain": [
       "<Figure size 432x288 with 1 Axes>"
      ]
     },
     "metadata": {
      "needs_background": "light"
     },
     "output_type": "display_data"
    },
    {
     "name": "stdout",
     "output_type": "stream",
     "text": [
      " The number of important features with threshold as 0.2 :10 \n",
      "Feature 0: 0.083607\n",
      "Feature 1: 0.000000\n",
      "Feature 2: 0.251651\n",
      "Feature 3: 0.012409\n",
      "Feature 4: 0.841368\n",
      "Feature 5: 1.516924\n",
      "Feature 6: 0.848854\n",
      "Feature 7: 0.225765\n",
      "Feature 8: 0.334564\n",
      "Feature 9: 0.144799\n",
      "Feature 10: 0.625068\n",
      "Feature 11: 0.362913\n",
      "Feature 12: 2.147897\n",
      "Feature 13: 0.148049\n",
      "Feature 14: 1.819609\n",
      "Feature 15: 0.142334\n",
      "Feature 16: 0.268340\n",
      "Feature 17: 0.138329\n",
      "Feature 18: 0.279466\n",
      "Feature 19: 0.283424\n",
      "Feature 20: 0.191498\n"
     ]
    },
    {
     "data": {
      "image/png": "[encoded data removed]",
      "text/plain": [
       "<Figure size 432x288 with 1 Axes>"
      ]
     },
     "metadata": {
      "needs_background": "light"
     },
     "output_type": "display_data"
    },
    {
     "name": "stdout",
     "output_type": "stream",
     "text": [
      " The number of important features with threshold as 0.2 : 13\n"
     ]
    }
   ],
   "source": [
    "# example of mutual information feature selection for categorical data\n",
    "from sklearn.feature_selection import mutual_info_classif\n",
    "\n",
    "def select_features(X_train, y_train, X_test):\n",
    "    fs = SelectKBest(score_func=mutual_info_classif, k='all')\n",
    "    fs.fit(X_train, y_train)\n",
    "    X_train_fs = fs.transform(X_train)\n",
    "    X_test_fs = fs.transform(X_test)\n",
    "    \n",
    "    X_new = fs.fit_transform(X_train,y_train)\n",
    "    names = X_train.columns.values[fs.get_support()]\n",
    "    scores = fs.scores_[fs.get_support()]\n",
    "    names_scores = list(zip(names, scores))\n",
    "    ns_df = pd.DataFrame(data = names_scores, columns=['Feat_names', 'F_Scores'])\n",
    "    #Sort the dataframe for better visualization\n",
    "    ns_df_sorted = ns_df.sort_values(['F_Scores', 'Feat_names'], ascending = [False, True])\n",
    "    print(ns_df_sorted)\n",
    "    \n",
    "    return X_train_fs, X_test_fs, fs\n",
    "\n",
    "# split into train and test sets\n",
    "X_train, X_test, y_train, y_test = train_test_split(X, y, test_size=0.2, random_state=20)#Decision tree\n",
    "X_train2,X_test2,y_train2,y_test2=train_test_split(X,y,test_size=0.3,random_state=10)#XGBoost\n",
    "X_train6,X_test6,y_train6,y_test6=train_test_split(X,y,test_size=0.2,random_state=15)#SVM\n",
    "\n",
    "X_train1, X_test1, fs1 = select_features(X_train, y_train, X_test)\n",
    "print(\"===========================================================\")\n",
    "X_train3, X_test3, fs3 = select_features(X_train2, y_train2, X_test2)\n",
    "print(\"===========================================================\")\n",
    "X_train5, X_test5, fs5 = select_features(X_train2, y_train2, X_test2)\n",
    "print(\"===========================================================\")\n",
    "\n",
    "# what are scores for the features\n",
    "for i in range(len(fs1.scores_)):\n",
    "\tprint('Feature %d: %f' % (i, fs1.scores_[i]))\n",
    "# plot the scores\n",
    "pyplot.bar([i for i in range(len(fs1.scores_))], fs1.scores_)\n",
    "pyplot.show()\n",
    "\n",
    "count = 0\n",
    "for i in fs1.scores_ : \n",
    "    if i > 0.2 : \n",
    "        count = count + 1\n",
    "k1=count\n",
    "print(\" The number of important features with threshold as 0.2 :{} \".format(k1))\n",
    "\n",
    "\n",
    "for i in range(len(fs3.scores_)):\n",
    "\tprint('Feature %d: %f' % (i, fs3.scores_[i]))\n",
    "# plot the scores\n",
    "pyplot.bar([i for i in range(len(fs3.scores_))], fs3.scores_)\n",
    "pyplot.show()\n",
    "\n",
    "count = 0\n",
    "for i in fs3.scores_ : \n",
    "    if i > 0.2 : \n",
    "        count = count + 1\n",
    "k3=count\n",
    "\n",
    "print(\" The number of important features with threshold as 0.2 :{} \".format(k3))\n",
    "\n",
    "#X_train4, X_test4, fs = select_features(X_train2, y_train2, X_test2)\n",
    "for i in range(len(fs5.scores_)):\n",
    "\tprint('Feature %d: %f' % (i, fs5.scores_[i]))\n",
    "# plot the scores\n",
    "pyplot.bar([i for i in range(len(fs5.scores_))], fs5.scores_)\n",
    "pyplot.show()\n",
    "\n",
    "count = 0\n",
    "for i in fs5.scores_ : \n",
    "    if i > 0.2 : \n",
    "        count = count + 1\n",
    "k5=count\n",
    "\n",
    "print(\" The number of important features with threshold as 0.2 : {}\" .format(k5))"
   ]
  },
  {
   "cell_type": "code",
   "execution_count": 6,
   "metadata": {},
   "outputs": [],
   "source": [
    "#Support Vector machine\n",
    "from sklearn.metrics import confusion_matrix,accuracy_score\n",
    "def svm(X_train,y_train,X_test,y_test):\n",
    "  from sklearn.svm import SVC\n",
    "  from pandas import read_csv\n",
    "  from sklearn.model_selection import train_test_split\n",
    "\n",
    "  # import metrics to compute accuracy\n",
    "  from sklearn.metrics import accuracy_score\n",
    "  svc=SVC() \n",
    "  # fit classifier to training set\n",
    "  svc.fit(X_train,y_train)\n",
    "  # make predictions on test set\n",
    "  y_pred=svc.predict(X_test)\n",
    "  # compute and print accuracy score\n",
    "  print('Model accuracy score with default hyperparameters: {0:0.4f}'. format(accuracy_score(y_test, y_pred)*100))\n",
    "  return accuracy_score(y_test, y_pred)*100\n",
    "\n",
    "def Dec_tree(X_train,y_train,X_test,y_test):\n",
    "  from sklearn import tree\n",
    "  clf = tree.DecisionTreeClassifier()\n",
    "  clf = clf.fit(X_train, y_train)\n",
    "  # Prediction\n",
    "  y_pred = clf.predict(X_test)\n",
    "  y_test_arr=y_test['role']\n",
    "  from sklearn.metrics import confusion_matrix,accuracy_score\n",
    "  accuracy = accuracy_score(y_test,y_pred)\n",
    "  print('Model accuracy score with Decision Tree', accuracy_score(y_test, y_pred)*100)\n",
    "  return accuracy*100,clf\n",
    "\n",
    "def xgboost(X_train,y_train,X_test,y_test,clf):\n",
    "  #X_train,X_test,y_train,y_test=train_test_split(X1,y,test_size=0.3,random_state=10)\n",
    "  shape = X_train.shape\n",
    "  X_train=pd.to_numeric(X_train.values.flatten())\n",
    "  X_train=X_train.reshape(shape)\n",
    "  from xgboost.sklearn import XGBClassifier\n",
    "  model = XGBClassifier()\n",
    "  print(X_train.shape)\n",
    "  model.fit(X_train, y_train)\n",
    "  xgb_y_pred  = clf.predict(X_test)\n",
    "  print(\"============================================================\",type(X_test),X_test.shape)\n",
    "  print(X_test.iloc[[0]].values,xgb_y_pred[0])\n",
    "  print(X_test.iloc[[1]].values,xgb_y_pred[1])\n",
    "  print(X_test.iloc[[2]].values,xgb_y_pred[2])\n",
    "  print(X_test.iloc[[3]].values,xgb_y_pred[3])\n",
    "  print(X_test.iloc[[4]].values,xgb_y_pred[4])\n",
    "  print(X_test.iloc[[5]].values,xgb_y_pred[5])\n",
    "  print(X_test.iloc[[6]].values,xgb_y_pred[6])\n",
    "  print(X_test.iloc[[7]].values,xgb_y_pred[7])\n",
    "  print(X_test.iloc[[8]].values,xgb_y_pred[8])\n",
    "  print(X_test.iloc[[9]].values,xgb_y_pred[9])\n",
    "  print(X_test.iloc[[10]].values,xgb_y_pred[10])\n",
    "  print(X_test.iloc[[11]].values,xgb_y_pred[11])\n",
    "  print(X_test.iloc[[12]].values,xgb_y_pred[12])\n",
    "  print(X_test.iloc[[13]].values,xgb_y_pred[13])\n",
    "  print(X_test.iloc[[14]].values,xgb_y_pred[14])\n",
    "  #print(\"______________________________________________________________\")\n",
    "  #print(xgb_y_pred)\n",
    "  print(\"=============================================================\")\n",
    "  xgb_accuracy = accuracy_score(y_test,xgb_y_pred)\n",
    "  print(\"final_ accuracy=\",xgb_accuracy*100)\n",
    "  print(type((X_test)))\n",
    "  print(X_test.shape)\n",
    "  print(X_test.columns)\n",
    "    \n",
    "  import pickle\n",
    "  pickle.dump(model, open('final_model.pkl', 'wb'))\n",
    "  return xgb_accuracy*100"
   ]
  },
  {
   "cell_type": "code",
   "execution_count": 7,
   "metadata": {
    "colab": {
     "base_uri": "https://localhost:8080/"
    },
    "id": "IcSMQuHA3rzW",
    "outputId": "738d5820-976e-43cb-ed68-288e32affd8b"
   },
   "outputs": [
    {
     "name": "stdout",
     "output_type": "stream",
     "text": [
      "            Feat_names  F_Scores\n",
      "6      technology_used  1.058552\n",
      "0   no_of_miniprojects  0.915108\n",
      "4         lab_programs  0.912135\n",
      "1       no_of_projects  0.850589\n",
      "2        coresub_skill  0.566931\n",
      "3  abstractthink_skill  0.358546\n",
      "5            ds_coding  0.347447\n",
      "7      extracurricular  0.280834\n",
      "===========================================================\n"
     ]
    },
    {
     "name": "stderr",
     "output_type": "stream",
     "text": [
      "C:\\Users\\nagas\\anaconda3\\envs\\ml\\lib\\site-packages\\sklearn\\utils\\validation.py:760: DataConversionWarning: A column-vector y was passed when a 1d array was expected. Please change the shape of y to (n_samples, ), for example using ravel().\n",
      "  y = column_or_1d(y, warn=True)\n",
      "C:\\Users\\nagas\\anaconda3\\envs\\ml\\lib\\site-packages\\sklearn\\utils\\validation.py:760: DataConversionWarning: A column-vector y was passed when a 1d array was expected. Please change the shape of y to (n_samples, ), for example using ravel().\n",
      "  y = column_or_1d(y, warn=True)\n",
      "C:\\Users\\nagas\\anaconda3\\envs\\ml\\lib\\site-packages\\sklearn\\utils\\validation.py:760: DataConversionWarning: A column-vector y was passed when a 1d array was expected. Please change the shape of y to (n_samples, ), for example using ravel().\n",
      "  y = column_or_1d(y, warn=True)\n",
      "C:\\Users\\nagas\\anaconda3\\envs\\ml\\lib\\site-packages\\sklearn\\utils\\validation.py:760: DataConversionWarning: A column-vector y was passed when a 1d array was expected. Please change the shape of y to (n_samples, ), for example using ravel().\n",
      "  y = column_or_1d(y, warn=True)\n"
     ]
    },
    {
     "name": "stdout",
     "output_type": "stream",
     "text": [
      "            Feat_names  F_Scores\n",
      "6      technology_used  1.870982\n",
      "5         lab_programs  1.848170\n",
      "2       no_of_projects  1.512300\n",
      "1   no_of_miniprojects  1.122923\n",
      "3        coresub_skill  0.665698\n",
      "7        sympos_attend  0.363006\n",
      "9  college_performence  0.354832\n",
      "8           sympos_won  0.303931\n",
      "0                 cgpa  0.293805\n",
      "4  abstractthink_skill  0.285457\n",
      "===========================================================\n",
      "             Feat_names  F_Scores\n",
      "8       technology_used  2.662797\n",
      "6          lab_programs  1.670532\n",
      "1        no_of_projects  1.542944\n",
      "0    no_of_miniprojects  1.057835\n",
      "2         coresub_skill  1.006111\n",
      "5          design_skill  1.000146\n",
      "7             ds_coding  0.723500\n",
      "12  college_performence  0.708967\n",
      "9         sympos_attend  0.676336\n",
      "4   abstractthink_skill  0.665567\n",
      "3        aptitude_skill  0.653450\n",
      "10           sympos_won  0.233356\n",
      "11       learning_style  0.186130\n",
      "===========================================================\n",
      "Without feature Selection : \n",
      "Model accuracy score with default hyperparameters: 70.0000\n",
      "With feature Selection : \n",
      "Model accuracy score with default hyperparameters: 70.0000\n",
      "svm 70.0 70.0\n",
      "Without feature Selection : \n",
      "Model accuracy score with Decision Tree 30.0\n",
      "With feature Selection : \n",
      "Model accuracy score with Decision Tree 20.0\n",
      "DT 30.0 20.0\n",
      "Boosting the Decision Tree  \n"
     ]
    },
    {
     "name": "stderr",
     "output_type": "stream",
     "text": [
      "C:\\Users\\nagas\\anaconda3\\envs\\ml\\lib\\site-packages\\sklearn\\utils\\validation.py:760: DataConversionWarning: A column-vector y was passed when a 1d array was expected. Please change the shape of y to (n_samples, ), for example using ravel().\n",
      "  y = column_or_1d(y, warn=True)\n",
      "C:\\Users\\nagas\\anaconda3\\envs\\ml\\lib\\site-packages\\sklearn\\utils\\validation.py:760: DataConversionWarning: A column-vector y was passed when a 1d array was expected. Please change the shape of y to (n_samples, ), for example using ravel().\n",
      "  y = column_or_1d(y, warn=True)\n",
      "C:\\Users\\nagas\\anaconda3\\envs\\ml\\lib\\site-packages\\sklearn\\utils\\validation.py:760: DataConversionWarning: A column-vector y was passed when a 1d array was expected. Please change the shape of y to (n_samples, ), for example using ravel().\n",
      "  y = column_or_1d(y, warn=True)\n",
      "C:\\Users\\nagas\\anaconda3\\envs\\ml\\lib\\site-packages\\sklearn\\utils\\validation.py:760: DataConversionWarning: A column-vector y was passed when a 1d array was expected. Please change the shape of y to (n_samples, ), for example using ravel().\n",
      "  y = column_or_1d(y, warn=True)\n"
     ]
    },
    {
     "name": "stdout",
     "output_type": "stream",
     "text": [
      "(34, 21)\n",
      "============================================================ <class 'pandas.core.frame.DataFrame'> (15, 21)\n",
      "[[4 4 3 2 2 1 2 1 3 4 3 3 4 3 1 2 2 1 1 3 4]] 2\n",
      "[[4 4 4 1 2 2 2 4 3 3 3 2 4 2 2 4 2 1 3 4 4]] 2\n",
      "[[4 3 2 2 2 1 2 1 2 3 2 2 4 2 1 1 2 1 1 3 4]] 7\n",
      "[[4 3 2 2 1 1 2 2 2 2 2 1 4 2 1 1 2 2 2 3 1]] 3\n",
      "[[4 3 2 1 2 1 1 1 3 3 2 2 4 2 1 1 1 1 2 3 3]] 4\n",
      "[[2 2 2 2 1 1 2 3 4 5 2 2 4 2 2 3 2 3 2 4 4]] 4\n",
      "[[3 4 2 1 1 1 1 1 3 2 2 2 4 2 1 3 2 1 2 4 3]] 4\n",
      "[[3 4 1 2 1 1 2 2 2 2 1 1 4 2 1 4 1 1 1 3 3]] 4\n",
      "[[3 3 2 2 1 1 2 1 2 2 2 2 4 1 1 3 3 3 4 3 3]] 4\n",
      "[[3 3 2 2 2 1 2 4 3 3 3 3 4 1 1 3 2 1 1 4 4]] 7\n",
      "[[4 4 4 2 1 1 2 2 3 5 2 2 3 2 1 3 2 1 2 4 2]] 1\n",
      "[[3 4 2 2 1 1 1 2 3 3 2 3 2 1 1 4 3 1 4 3 4]] 6\n",
      "[[4 3 3 3 2 1 2 1 3 3 2 3 4 2 1 4 1 4 4 4 5]] 2\n",
      "[[4 4 3 3 1 1 1 4 2 3 4 2 2 2 1 3 3 1 4 4 1]] 5\n",
      "[[4 4 2 2 1 1 1 3 3 2 3 2 4 3 1 3 3 3 2 4 3]] 2\n",
      "=============================================================\n",
      "final_ accuracy= 93.33333333333333\n",
      "<class 'pandas.core.frame.DataFrame'>\n",
      "(15, 21)\n",
      "Index(['sslc', 'hsc', 'cgpa', 'school_type', 'no_of_miniprojects',\n",
      "       'no_of_projects', 'coresub_skill', 'aptitude_skill',\n",
      "       'problemsolving_skill', 'programming_skill', 'abstractthink_skill',\n",
      "       'design_skill', 'lab_programs', 'ds_coding', 'technology_used',\n",
      "       'sympos_attend', 'sympos_won', 'extracurricular', 'learning_style',\n",
      "       'college_performence', 'college_skills'],\n",
      "      dtype='object')\n",
      "XGB 93.33333333333333\n"
     ]
    },
    {
     "name": "stderr",
     "output_type": "stream",
     "text": [
      "C:\\Users\\nagas\\anaconda3\\envs\\ml\\lib\\site-packages\\sklearn\\preprocessing\\_label.py:235: DataConversionWarning: A column-vector y was passed when a 1d array was expected. Please change the shape of y to (n_samples, ), for example using ravel().\n",
      "  y = column_or_1d(y, warn=True)\n",
      "C:\\Users\\nagas\\anaconda3\\envs\\ml\\lib\\site-packages\\sklearn\\preprocessing\\_label.py:268: DataConversionWarning: A column-vector y was passed when a 1d array was expected. Please change the shape of y to (n_samples, ), for example using ravel().\n",
      "  y = column_or_1d(y, warn=True)\n"
     ]
    }
   ],
   "source": [
    "def select_features(X_train, y_train, X_test):\n",
    "    \n",
    "    fs = SelectKBest(score_func=mutual_info_classif,k=k1)\n",
    "    fs.fit(X_train, y_train)\n",
    "    X_train_fs = fs.transform(X_train)\n",
    "    X_test_fs = fs.transform(X_test)\n",
    "    \n",
    "    X_new = fs.fit_transform(X_train,y_train)\n",
    "    names = X_train.columns.values[fs.get_support()]\n",
    "    scores = fs.scores_[fs.get_support()]\n",
    "    names_scores = list(zip(names, scores))\n",
    "    ns_df = pd.DataFrame(data = names_scores, columns=['Feat_names', 'F_Scores'])\n",
    "    #Sort the dataframe for better visualization\n",
    "    ns_df_sorted = ns_df.sort_values(['F_Scores', 'Feat_names'], ascending = [False, True])\n",
    "    print(ns_df_sorted)\n",
    "    \n",
    "    return X_train_fs, X_test_fs, fs\n",
    "\n",
    "def select_features2(X_train, y_train, X_test):\n",
    "    \n",
    "    fs = SelectKBest(score_func=mutual_info_classif,k=k3)\n",
    "    fs.fit(X_train, y_train)\n",
    "    X_train_fs = fs.transform(X_train)\n",
    "    X_test_fs = fs.transform(X_test)\n",
    "    \n",
    "    X_new = fs.fit_transform(X_train,y_train)\n",
    "    names = X_train.columns.values[fs.get_support()]\n",
    "    scores = fs.scores_[fs.get_support()]\n",
    "    names_scores = list(zip(names, scores))\n",
    "    ns_df = pd.DataFrame(data = names_scores, columns=['Feat_names', 'F_Scores'])\n",
    "    #Sort the dataframe for better visualization\n",
    "    ns_df_sorted = ns_df.sort_values(['F_Scores', 'Feat_names'], ascending = [False, True])\n",
    "    print(ns_df_sorted)\n",
    "    \n",
    "    return X_train_fs, X_test_fs, fs\n",
    "\n",
    "def select_features3(X_train, y_train, X_test):\n",
    "    \n",
    "    fs = SelectKBest(score_func=mutual_info_classif,k=k5)\n",
    "    fs.fit(X_train, y_train)\n",
    "    X_train_fs = fs.transform(X_train)\n",
    "    X_test_fs = fs.transform(X_test)\n",
    "    \n",
    "    X_new = fs.fit_transform(X_train,y_train)\n",
    "    names = X_train.columns.values[fs.get_support()]\n",
    "    scores = fs.scores_[fs.get_support()]\n",
    "    names_scores = list(zip(names, scores))\n",
    "    ns_df = pd.DataFrame(data = names_scores, columns=['Feat_names', 'F_Scores'])\n",
    "    #Sort the dataframe for better visualization\n",
    "    ns_df_sorted = ns_df.sort_values(['F_Scores', 'Feat_names'], ascending = [False, True])\n",
    "    print(ns_df_sorted)\n",
    "    \n",
    "    return X_train_fs, X_test_fs, fs\n",
    "\n",
    "\n",
    "X_train1, X_test1, fs = select_features(X_train, y_train, X_test)\n",
    "print(\"===========================================================\")\n",
    "X_train3, X_test3, fs = select_features2(X_train2, y_train2, X_test2)\n",
    "print(\"===========================================================\")\n",
    "X_train5, X_test5, fs = select_features3(X_train6, y_train6, X_test6)\n",
    "print(\"===========================================================\")\n",
    "\n",
    "\n",
    "results=dict()\n",
    "\n",
    "#---------------SVM------------------#\n",
    "#\n",
    "print(\"Without feature Selection : \")\n",
    "acc = svm(X_train6,y_train6,X_test6,y_test6)\n",
    "\n",
    "print(\"With feature Selection : \")\n",
    "acc1 = svm(X_train5,y_train6,X_test5,y_test6)\n",
    "\n",
    "print(\"svm\",acc,acc1)\n",
    "results.update({\"svm\":acc1})\n",
    "#-------------Decision Tree-----------------#\n",
    "print(\"Without feature Selection : \")\n",
    "acc1,clf1 = Dec_tree(X_train1,y_train,X_test1,y_test)\n",
    "\n",
    "print(\"With feature Selection : \")\n",
    "acc,clf = Dec_tree(X_train,y_train,X_test,y_test)\n",
    "\n",
    "print(\"DT\",acc1,acc)\n",
    "results.update({\"DT\":acc})\n",
    "\n",
    "#-------------XGBoost-----------------#\n",
    "print(\"Boosting the Decision Tree  \")\n",
    "acc = xgboost(X_train2,y_train2,X_test2,y_test2,clf)\n",
    "print(\"XGB\",acc)\n",
    "results.update({\"XGB\":acc})"
   ]
  },
  {
   "cell_type": "code",
   "execution_count": 8,
   "metadata": {},
   "outputs": [
    {
     "data": {
      "image/png": "[encoded data removed]",
      "text/plain": [
       "<Figure size 720x360 with 1 Axes>"
      ]
     },
     "metadata": {
      "needs_background": "light"
     },
     "output_type": "display_data"
    }
   ],
   "source": [
    "import numpy as np\n",
    "import matplotlib.pyplot as plt\n",
    " \n",
    "courses = list(results.keys())\n",
    "values = list(results.values())\n",
    "  \n",
    "fig = plt.figure(figsize = (10, 5))\n",
    " \n",
    "# creating the bar plot\n",
    "plt.bar(courses, values, color ='maroon',\n",
    "        width = 0.4)\n",
    " \n",
    "plt.xlabel(\"Algorithms\")\n",
    "plt.ylabel(\"Accuracy\")\n",
    "plt.title(\"Algorithm vs Accuracy\")\n",
    "plt.show()"
   ]
  },
  {
   "cell_type": "code",
   "execution_count": 9,
   "metadata": {},
   "outputs": [
    {
     "name": "stdout",
     "output_type": "stream",
     "text": [
      "['f0', 'f1', 'f2', 'f3', 'f4', 'f5', 'f6', 'f7', 'f8', 'f9', 'f10', 'f11', 'f12', 'f13', 'f14', 'f15', 'f16', 'f17', 'f18', 'f19', 'f20']\n"
     ]
    }
   ],
   "source": [
    "import pickle\n",
    "loaded_model = pickle.load(open(\"final_model.pkl\", \"rb\"))\n",
    "cols_when_model_builds = loaded_model.get_booster().feature_names\n",
    "print(cols_when_model_builds)"
   ]
  },
  {
   "cell_type": "code",
   "execution_count": 10,
   "metadata": {},
   "outputs": [],
   "source": [
    "l=['f0', 'f1','f2', 'f3', 'f4', 'f5', 'f6', 'f7', 'f8', 'f9', 'f10', 'f11', 'f12', 'f13', 'f14', 'f15', 'f16', 'f17', 'f18', 'f19', 'f20']\n",
    "df = pd.DataFrame([[1,1,1,1,1,1,1,1,1,1,1,1,1,1,1,1,1,1,1,1,1]],columns=l)"
   ]
  },
  {
   "cell_type": "code",
   "execution_count": 11,
   "metadata": {},
   "outputs": [
    {
     "data": {
      "text/html": [
       "<div>\n",
       "<style scoped>\n",
       "    .dataframe tbody tr th:only-of-type {\n",
       "        vertical-align: middle;\n",
       "    }\n",
       "\n",
       "    .dataframe tbody tr th {\n",
       "        vertical-align: top;\n",
       "    }\n",
       "\n",
       "    .dataframe thead th {\n",
       "        text-align: right;\n",
       "    }\n",
       "</style>\n",
       "<table border=\"1\" class=\"dataframe\">\n",
       "  <thead>\n",
       "    <tr style=\"text-align: right;\">\n",
       "      <th></th>\n",
       "      <th>f0</th>\n",
       "      <th>f1</th>\n",
       "      <th>f2</th>\n",
       "      <th>f3</th>\n",
       "      <th>f4</th>\n",
       "      <th>f5</th>\n",
       "      <th>f6</th>\n",
       "      <th>f7</th>\n",
       "      <th>f8</th>\n",
       "      <th>f9</th>\n",
       "      <th>...</th>\n",
       "      <th>f11</th>\n",
       "      <th>f12</th>\n",
       "      <th>f13</th>\n",
       "      <th>f14</th>\n",
       "      <th>f15</th>\n",
       "      <th>f16</th>\n",
       "      <th>f17</th>\n",
       "      <th>f18</th>\n",
       "      <th>f19</th>\n",
       "      <th>f20</th>\n",
       "    </tr>\n",
       "  </thead>\n",
       "  <tbody>\n",
       "    <tr>\n",
       "      <th>0</th>\n",
       "      <td>1</td>\n",
       "      <td>1</td>\n",
       "      <td>1</td>\n",
       "      <td>1</td>\n",
       "      <td>1</td>\n",
       "      <td>1</td>\n",
       "      <td>1</td>\n",
       "      <td>1</td>\n",
       "      <td>1</td>\n",
       "      <td>1</td>\n",
       "      <td>...</td>\n",
       "      <td>1</td>\n",
       "      <td>1</td>\n",
       "      <td>1</td>\n",
       "      <td>1</td>\n",
       "      <td>1</td>\n",
       "      <td>1</td>\n",
       "      <td>1</td>\n",
       "      <td>1</td>\n",
       "      <td>1</td>\n",
       "      <td>1</td>\n",
       "    </tr>\n",
       "  </tbody>\n",
       "</table>\n",
       "<p>1 rows × 21 columns</p>\n",
       "</div>"
      ],
      "text/plain": [
       "   f0  f1  f2  f3  f4  f5  f6  f7  f8  f9  ...  f11  f12  f13  f14  f15  f16  \\\n",
       "0   1   1   1   1   1   1   1   1   1   1  ...    1    1    1    1    1    1   \n",
       "\n",
       "   f17  f18  f19  f20  \n",
       "0    1    1    1    1  \n",
       "\n",
       "[1 rows x 21 columns]"
      ]
     },
     "execution_count": 11,
     "metadata": {},
     "output_type": "execute_result"
    }
   ],
   "source": [
    "df"
   ]
  },
  {
   "cell_type": "code",
   "execution_count": 12,
   "metadata": {},
   "outputs": [
    {
     "data": {
      "text/plain": [
       "array([0])"
      ]
     },
     "execution_count": 12,
     "metadata": {},
     "output_type": "execute_result"
    }
   ],
   "source": [
    "loaded_model.predict(df)"
   ]
  }
 ],
 "metadata": {
  "colab": {
   "collapsed_sections": [],
   "include_colab_link": true,
   "name": "FinalPRMLcode.ipynb",
   "provenance": []
  },
  "kernelspec": {
   "display_name": "Python 3",
   "language": "python",
   "name": "python3"
  },
  "language_info": {
   "codemirror_mode": {
    "name": "ipython",
    "version": 3
   },
   "file_extension": ".py",
   "mimetype": "text/x-python",
   "name": "python",
   "nbconvert_exporter": "python",
   "pygments_lexer": "ipython3",
   "version": "3.6.9"
  }
 },
 "nbformat": 4,
 "nbformat_minor": 1
}
